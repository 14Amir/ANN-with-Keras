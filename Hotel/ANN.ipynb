{
  "cells": [
    {
      "attachments": {},
      "cell_type": "markdown",
      "metadata": {},
      "source": [
        "note that disjoint the definition and libraries codes from others to run them every time you open vscode because of reloading kernel"
      ]
    },
    {
      "attachments": {},
      "cell_type": "markdown",
      "metadata": {},
      "source": [
        "Import required libraries"
      ]
    },
    {
      "cell_type": "code",
      "execution_count": 2,
      "metadata": {
        "colab": {
          "base_uri": "https://localhost:8080/"
        },
        "id": "hgLqPs1sbNUR",
        "outputId": "0d8b50cf-9e9d-4696-a1a1-17018d120d75"
      },
      "outputs": [
        {
          "data": {
            "text/plain": [
              "[]"
            ]
          },
          "execution_count": 2,
          "metadata": {},
          "output_type": "execute_result"
        }
      ],
      "source": [
        "import pandas as pd\n",
        "import matplotlib.pyplot as plt\n",
        "import numpy as np\n",
        "from sklearn.model_selection import train_test_split\n",
        "import tensorflow as tf\n",
        "tf.config.list_physical_devices('GPU')"
      ]
    },
    {
      "cell_type": "code",
      "execution_count": null,
      "metadata": {},
      "outputs": [],
      "source": [
        "train_df = pd.read_csv('H1.csv')\n",
        "print(train_df)\n",
        "train_df.count()"
      ]
    },
    {
      "cell_type": "code",
      "execution_count": 4,
      "metadata": {
        "colab": {
          "base_uri": "https://localhost:8080/"
        },
        "id": "5bHFfpfpjPCG",
        "outputId": "00194d3b-2ff2-4d47-d6a4-127782a0aae9"
      },
      "outputs": [
        {
          "name": "stdout",
          "output_type": "stream",
          "text": [
            "       IsCanceled  LeadTime  ArrivalDateYear ArrivalDateMonth  \\\n",
            "0               0         6             2015             July   \n",
            "1               1        88             2015             July   \n",
            "2               1        65             2015             July   \n",
            "3               1        92             2015             July   \n",
            "4               1       100             2015             July   \n",
            "...           ...       ...              ...              ...   \n",
            "79325           0        23             2017           August   \n",
            "79326           0       102             2017           August   \n",
            "79327           0        34             2017           August   \n",
            "79328           0       109             2017           August   \n",
            "79329           0       205             2017           August   \n",
            "\n",
            "       ArrivalDateWeekNumber  ArrivalDateDayOfMonth  StaysInWeekendNights  \\\n",
            "0                         27                      1                     0   \n",
            "1                         27                      1                     0   \n",
            "2                         27                      1                     0   \n",
            "3                         27                      1                     2   \n",
            "4                         27                      2                     0   \n",
            "...                      ...                    ...                   ...   \n",
            "79325                     35                     30                     2   \n",
            "79326                     35                     31                     2   \n",
            "79327                     35                     31                     2   \n",
            "79328                     35                     31                     2   \n",
            "79329                     35                     29                     2   \n",
            "\n",
            "       StaysInWeekNights  Adults  Children  ...  ReservedRoomType  \\\n",
            "0                      2       1       0.0  ...  A                  \n",
            "1                      4       2       0.0  ...  A                  \n",
            "2                      4       1       0.0  ...  A                  \n",
            "3                      4       2       0.0  ...  A                  \n",
            "4                      2       2       0.0  ...  A                  \n",
            "...                  ...     ...       ...  ...               ...   \n",
            "79325                  5       2       0.0  ...  A                  \n",
            "79326                  5       3       0.0  ...  E                  \n",
            "79327                  5       2       0.0  ...  D                  \n",
            "79328                  5       2       0.0  ...  A                  \n",
            "79329                  7       2       0.0  ...  A                  \n",
            "\n",
            "       AssignedRoomType BookingChanges      DepositType DaysInWaitingList  \\\n",
            "0      A                             0  No Deposit                      0   \n",
            "1      A                             0  No Deposit                      0   \n",
            "2      A                             0  No Deposit                      0   \n",
            "3      A                             0  No Deposit                      0   \n",
            "4      A                             0  No Deposit                      0   \n",
            "...                 ...            ...              ...               ...   \n",
            "79325  A                             0  No Deposit                      0   \n",
            "79326  E                             0  No Deposit                      0   \n",
            "79327  D                             0  No Deposit                      0   \n",
            "79328  A                             0  No Deposit                      0   \n",
            "79329  A                             0  No Deposit                      0   \n",
            "\n",
            "       CustomerType     ADR  RequiredCarParkingSpaces TotalOfSpecialRequests  \\\n",
            "0         Transient    0.00                         0                      0   \n",
            "1         Transient   76.50                         0                      1   \n",
            "2         Transient   68.00                         0                      1   \n",
            "3         Transient   76.50                         0                      2   \n",
            "4         Transient   76.50                         0                      1   \n",
            "...             ...     ...                       ...                    ...   \n",
            "79325     Transient   96.14                         0                      0   \n",
            "79326     Transient  225.43                         0                      2   \n",
            "79327     Transient  157.71                         0                      4   \n",
            "79328     Transient  104.40                         0                      0   \n",
            "79329     Transient  151.20                         0                      2   \n",
            "\n",
            "      ReservationStatus  \n",
            "0             Check-Out  \n",
            "1              Canceled  \n",
            "2              Canceled  \n",
            "3              Canceled  \n",
            "4              Canceled  \n",
            "...                 ...  \n",
            "79325         Check-Out  \n",
            "79326         Check-Out  \n",
            "79327         Check-Out  \n",
            "79328         Check-Out  \n",
            "79329         Check-Out  \n",
            "\n",
            "[79330 rows x 28 columns]\n"
          ]
        },
        {
          "data": {
            "text/plain": [
              "IsCanceled                     79330\n",
              "LeadTime                       79330\n",
              "ArrivalDateYear                79330\n",
              "ArrivalDateMonth               79330\n",
              "ArrivalDateWeekNumber          79330\n",
              "ArrivalDateDayOfMonth          79330\n",
              "StaysInWeekendNights           79330\n",
              "StaysInWeekNights              79330\n",
              "Adults                         79330\n",
              "Children                       79326\n",
              "Babies                         79330\n",
              "Meal                           79330\n",
              "Country                        79306\n",
              "MarketSegment                  79330\n",
              "DistributionChannel            79330\n",
              "IsRepeatedGuest                79330\n",
              "PreviousCancellations          79330\n",
              "PreviousBookingsNotCanceled    79330\n",
              "ReservedRoomType               79330\n",
              "AssignedRoomType               79330\n",
              "BookingChanges                 79330\n",
              "DepositType                    79330\n",
              "DaysInWaitingList              79330\n",
              "CustomerType                   79330\n",
              "ADR                            79330\n",
              "RequiredCarParkingSpaces       79330\n",
              "TotalOfSpecialRequests         79330\n",
              "ReservationStatus              79330\n",
              "dtype: int64"
            ]
          },
          "execution_count": 4,
          "metadata": {},
          "output_type": "execute_result"
        }
      ],
      "source": [
        "test_df = pd.read_csv('H2.csv')\n",
        "print(test_df)\n",
        "test_df.count()"
      ]
    },
    {
      "cell_type": "code",
      "execution_count": 5,
      "metadata": {
        "colab": {
          "base_uri": "https://localhost:8080/"
        },
        "id": "ZoMyhK1EaJXN",
        "outputId": "42d8749f-8e97-47b9-f65f-06f1328c299c"
      },
      "outputs": [
        {
          "data": {
            "text/plain": [
              "IsCanceled                       0\n",
              "LeadTime                         0\n",
              "ArrivalDateYear                  0\n",
              "ArrivalDateMonth                 0\n",
              "ArrivalDateWeekNumber            0\n",
              "ArrivalDateDayOfMonth            0\n",
              "StaysInWeekendNights             0\n",
              "StaysInWeekNights                0\n",
              "Adults                           0\n",
              "Children                         0\n",
              "Babies                           0\n",
              "Meal                             0\n",
              "Country                        464\n",
              "MarketSegment                    0\n",
              "DistributionChannel              0\n",
              "IsRepeatedGuest                  0\n",
              "PreviousCancellations            0\n",
              "PreviousBookingsNotCanceled      0\n",
              "ReservedRoomType                 0\n",
              "AssignedRoomType                 0\n",
              "BookingChanges                   0\n",
              "DepositType                      0\n",
              "DaysInWaitingList                0\n",
              "CustomerType                     0\n",
              "ADR                              0\n",
              "RequiredCarParkingSpaces         0\n",
              "TotalOfSpecialRequests           0\n",
              "ReservationStatus                0\n",
              "dtype: int64"
            ]
          },
          "execution_count": 5,
          "metadata": {},
          "output_type": "execute_result"
        }
      ],
      "source": [
        "train_df.isna().sum()"
      ]
    },
    {
      "cell_type": "code",
      "execution_count": 6,
      "metadata": {
        "colab": {
          "base_uri": "https://localhost:8080/"
        },
        "id": "hVKx8FmVuRQP",
        "outputId": "311bb9ab-5387-4dd8-a31c-667adbe13572"
      },
      "outputs": [
        {
          "data": {
            "text/plain": [
              "IsCanceled                      0\n",
              "LeadTime                        0\n",
              "ArrivalDateYear                 0\n",
              "ArrivalDateMonth                0\n",
              "ArrivalDateWeekNumber           0\n",
              "ArrivalDateDayOfMonth           0\n",
              "StaysInWeekendNights            0\n",
              "StaysInWeekNights               0\n",
              "Adults                          0\n",
              "Children                        4\n",
              "Babies                          0\n",
              "Meal                            0\n",
              "Country                        24\n",
              "MarketSegment                   0\n",
              "DistributionChannel             0\n",
              "IsRepeatedGuest                 0\n",
              "PreviousCancellations           0\n",
              "PreviousBookingsNotCanceled     0\n",
              "ReservedRoomType                0\n",
              "AssignedRoomType                0\n",
              "BookingChanges                  0\n",
              "DepositType                     0\n",
              "DaysInWaitingList               0\n",
              "CustomerType                    0\n",
              "ADR                             0\n",
              "RequiredCarParkingSpaces        0\n",
              "TotalOfSpecialRequests          0\n",
              "ReservationStatus               0\n",
              "dtype: int64"
            ]
          },
          "execution_count": 6,
          "metadata": {},
          "output_type": "execute_result"
        }
      ],
      "source": [
        "test_df.isna().sum()"
      ]
    },
    {
      "cell_type": "code",
      "execution_count": 7,
      "metadata": {
        "colab": {
          "base_uri": "https://localhost:8080/"
        },
        "id": "RJc_qgNHLN9Y",
        "outputId": "2f18ccef-5373-4a7f-d099-dd37c7de0c9e"
      },
      "outputs": [
        {
          "data": {
            "text/plain": [
              "(40060, 28)"
            ]
          },
          "execution_count": 7,
          "metadata": {},
          "output_type": "execute_result"
        }
      ],
      "source": [
        "train_df.shape"
      ]
    },
    {
      "cell_type": "code",
      "execution_count": 8,
      "metadata": {
        "colab": {
          "base_uri": "https://localhost:8080/"
        },
        "id": "8VSpfFjxuXca",
        "outputId": "c73dff7a-ee30-4e18-c228-e8e23957e661"
      },
      "outputs": [
        {
          "data": {
            "text/plain": [
              "(79330, 28)"
            ]
          },
          "execution_count": 8,
          "metadata": {},
          "output_type": "execute_result"
        }
      ],
      "source": [
        "test_df.shape"
      ]
    },
    {
      "cell_type": "code",
      "execution_count": 9,
      "metadata": {
        "id": "6dmCseAV2a4u"
      },
      "outputs": [],
      "source": [
        "train_df['Country'] = train_df['Country'].fillna(train_df['Country'].mode()[0])"
      ]
    },
    {
      "cell_type": "code",
      "execution_count": 10,
      "metadata": {
        "id": "4MfPN3PvutjN"
      },
      "outputs": [],
      "source": [
        "test_df['Children'] = test_df['Children'].fillna(test_df['Children'].mode()[0])"
      ]
    },
    {
      "cell_type": "code",
      "execution_count": 11,
      "metadata": {
        "id": "HYJaAm-fxjt1"
      },
      "outputs": [],
      "source": [
        "test_df['Country'] = test_df['Country'].fillna(test_df['Country'].mode()[0])"
      ]
    },
    {
      "cell_type": "code",
      "execution_count": 12,
      "metadata": {
        "colab": {
          "base_uri": "https://localhost:8080/"
        },
        "id": "Ci7OcyQp4xSa",
        "outputId": "e54c1890-32f2-4d37-e082-2e3da9c6876d"
      },
      "outputs": [
        {
          "data": {
            "text/plain": [
              "IsCanceled                     0\n",
              "LeadTime                       0\n",
              "ArrivalDateYear                0\n",
              "ArrivalDateMonth               0\n",
              "ArrivalDateWeekNumber          0\n",
              "ArrivalDateDayOfMonth          0\n",
              "StaysInWeekendNights           0\n",
              "StaysInWeekNights              0\n",
              "Adults                         0\n",
              "Children                       0\n",
              "Babies                         0\n",
              "Meal                           0\n",
              "Country                        0\n",
              "MarketSegment                  0\n",
              "DistributionChannel            0\n",
              "IsRepeatedGuest                0\n",
              "PreviousCancellations          0\n",
              "PreviousBookingsNotCanceled    0\n",
              "ReservedRoomType               0\n",
              "AssignedRoomType               0\n",
              "BookingChanges                 0\n",
              "DepositType                    0\n",
              "DaysInWaitingList              0\n",
              "CustomerType                   0\n",
              "ADR                            0\n",
              "RequiredCarParkingSpaces       0\n",
              "TotalOfSpecialRequests         0\n",
              "ReservationStatus              0\n",
              "dtype: int64"
            ]
          },
          "execution_count": 12,
          "metadata": {},
          "output_type": "execute_result"
        }
      ],
      "source": [
        "train_df.isna().sum()"
      ]
    },
    {
      "cell_type": "code",
      "execution_count": 13,
      "metadata": {
        "colab": {
          "base_uri": "https://localhost:8080/"
        },
        "id": "jz5nA0nSu489",
        "outputId": "f2c5cc6a-ebbd-486d-a281-2c12b9f68fc6"
      },
      "outputs": [
        {
          "data": {
            "text/plain": [
              "IsCanceled                     0\n",
              "LeadTime                       0\n",
              "ArrivalDateYear                0\n",
              "ArrivalDateMonth               0\n",
              "ArrivalDateWeekNumber          0\n",
              "ArrivalDateDayOfMonth          0\n",
              "StaysInWeekendNights           0\n",
              "StaysInWeekNights              0\n",
              "Adults                         0\n",
              "Children                       0\n",
              "Babies                         0\n",
              "Meal                           0\n",
              "Country                        0\n",
              "MarketSegment                  0\n",
              "DistributionChannel            0\n",
              "IsRepeatedGuest                0\n",
              "PreviousCancellations          0\n",
              "PreviousBookingsNotCanceled    0\n",
              "ReservedRoomType               0\n",
              "AssignedRoomType               0\n",
              "BookingChanges                 0\n",
              "DepositType                    0\n",
              "DaysInWaitingList              0\n",
              "CustomerType                   0\n",
              "ADR                            0\n",
              "RequiredCarParkingSpaces       0\n",
              "TotalOfSpecialRequests         0\n",
              "ReservationStatus              0\n",
              "dtype: int64"
            ]
          },
          "execution_count": 13,
          "metadata": {},
          "output_type": "execute_result"
        }
      ],
      "source": [
        "test_df.isna().sum()"
      ]
    },
    {
      "cell_type": "code",
      "execution_count": 14,
      "metadata": {
        "colab": {
          "base_uri": "https://localhost:8080/"
        },
        "id": "cm4FTw7lLZlP",
        "outputId": "a99aa0dd-48e1-4bec-df24-277ca1762e6b"
      },
      "outputs": [
        {
          "name": "stdout",
          "output_type": "stream",
          "text": [
            "(40060, 28)\n"
          ]
        }
      ],
      "source": [
        "print(train_df.shape)"
      ]
    },
    {
      "cell_type": "code",
      "execution_count": 15,
      "metadata": {
        "colab": {
          "base_uri": "https://localhost:8080/"
        },
        "id": "RE0K3y2lu78F",
        "outputId": "2d40774f-6e5c-476f-fd81-cb589106714a"
      },
      "outputs": [
        {
          "data": {
            "text/plain": [
              "(79330, 28)"
            ]
          },
          "execution_count": 15,
          "metadata": {},
          "output_type": "execute_result"
        }
      ],
      "source": [
        "test_df.shape"
      ]
    },
    {
      "cell_type": "code",
      "execution_count": 16,
      "metadata": {
        "colab": {
          "base_uri": "https://localhost:8080/"
        },
        "id": "kazmGORv2nBg",
        "outputId": "8b6066cf-afb1-402f-c8d5-b060f380be13"
      },
      "outputs": [
        {
          "data": {
            "text/plain": [
              "(40060, 201)"
            ]
          },
          "execution_count": 16,
          "metadata": {},
          "output_type": "execute_result"
        }
      ],
      "source": [
        "cat_cul = train_df.select_dtypes(include=['object']).columns\n",
        "train_df = pd.get_dummies(train_df, columns = cat_cul)\n",
        "train_df.shape"
      ]
    },
    {
      "cell_type": "code",
      "execution_count": 17,
      "metadata": {
        "colab": {
          "base_uri": "https://localhost:8080/"
        },
        "id": "tm_L3554vZ0C",
        "outputId": "c36f17f7-c83c-44f3-9855-4a468255597f"
      },
      "outputs": [
        {
          "data": {
            "text/plain": [
              "(79330, 240)"
            ]
          },
          "execution_count": 17,
          "metadata": {},
          "output_type": "execute_result"
        }
      ],
      "source": [
        "test_cat_cul = test_df.select_dtypes(include=['object']).columns\n",
        "test_df = pd.get_dummies(test_df, columns = test_cat_cul)\n",
        "test_df.shape"
      ]
    },
    {
      "cell_type": "code",
      "execution_count": 18,
      "metadata": {
        "id": "Xp2Nw192_3tF"
      },
      "outputs": [],
      "source": [
        "for column in train_df.columns:\n",
        "    if column not in test_df.columns:\n",
        "        test_df[column] = 0\n",
        "for column in test_df.columns:\n",
        "    if column not in train_df.columns:\n",
        "        test_df.drop([column], axis=1, inplace=True)"
      ]
    },
    {
      "cell_type": "code",
      "execution_count": 19,
      "metadata": {
        "colab": {
          "base_uri": "https://localhost:8080/"
        },
        "id": "BhjxNyTIAIDZ",
        "outputId": "ce982e59-e27f-4028-8775-4aa951b2a63f"
      },
      "outputs": [
        {
          "data": {
            "text/plain": [
              "(79330, 201)"
            ]
          },
          "execution_count": 19,
          "metadata": {},
          "output_type": "execute_result"
        }
      ],
      "source": [
        "test_df.shape"
      ]
    },
    {
      "cell_type": "code",
      "execution_count": 20,
      "metadata": {
        "colab": {
          "base_uri": "https://localhost:8080/"
        },
        "id": "J5zODQDDkr9M",
        "outputId": "c0e1c8dc-a2d7-49c7-9399-4bfaa6518950"
      },
      "outputs": [
        {
          "name": "stdout",
          "output_type": "stream",
          "text": [
            "y_train_df shape is :(40060,)\n",
            "x_train_df shape is :(40060, 200)\n"
          ]
        },
        {
          "name": "stderr",
          "output_type": "stream",
          "text": [
            "C:\\Users\\amira\\AppData\\Local\\Temp\\ipykernel_22932\\3797034508.py:2: SettingWithCopyWarning: \n",
            "A value is trying to be set on a copy of a slice from a DataFrame\n",
            "\n",
            "See the caveats in the documentation: https://pandas.pydata.org/pandas-docs/stable/user_guide/indexing.html#returning-a-view-versus-a-copy\n",
            "  y_train_df[y_train_df < 0]= 0\n"
          ]
        }
      ],
      "source": [
        "y_train_df = train_df['ADR']\n",
        "y_train_df[y_train_df < 0]= 0\n",
        "x_train_df = train_df.drop(labels=['ADR'], axis=1)\n",
        "print(f'y_train_df shape is :{y_train_df.shape}')\n",
        "print(f'x_train_df shape is :{x_train_df.shape}')"
      ]
    },
    {
      "cell_type": "code",
      "execution_count": 21,
      "metadata": {
        "colab": {
          "base_uri": "https://localhost:8080/"
        },
        "id": "4nWPfeiwHpaZ",
        "outputId": "c32716ac-4555-4d8b-8cc3-0fee2b02115f"
      },
      "outputs": [
        {
          "name": "stdout",
          "output_type": "stream",
          "text": [
            "y_test_df shape is :(79330,)\n",
            "x_test_df shape is :(79330, 200)\n"
          ]
        },
        {
          "name": "stderr",
          "output_type": "stream",
          "text": [
            "C:\\Users\\amira\\AppData\\Local\\Temp\\ipykernel_22932\\3758364211.py:2: SettingWithCopyWarning: \n",
            "A value is trying to be set on a copy of a slice from a DataFrame\n",
            "\n",
            "See the caveats in the documentation: https://pandas.pydata.org/pandas-docs/stable/user_guide/indexing.html#returning-a-view-versus-a-copy\n",
            "  y_test_df[y_test_df < 0]= 0\n"
          ]
        }
      ],
      "source": [
        "y_test_df = test_df['ADR']\n",
        "y_test_df[y_test_df < 0]= 0\n",
        "x_test_df = test_df.drop(labels=['ADR'], axis=1)\n",
        "print(f'y_test_df shape is :{y_test_df.shape}')\n",
        "print(f'x_test_df shape is :{x_test_df.shape}')"
      ]
    },
    {
      "cell_type": "code",
      "execution_count": 22,
      "metadata": {
        "colab": {
          "base_uri": "https://localhost:8080/"
        },
        "id": "Dvcm1zGXmCCV",
        "outputId": "f23871e3-6694-4893-b34f-5e75ea1cece0"
      },
      "outputs": [
        {
          "name": "stdout",
          "output_type": "stream",
          "text": [
            "[[0.00e+00 7.52e+02]\n",
            " [2.60e-01 1.00e+00]\n",
            " [1.56e+00 2.00e+00]\n",
            " ...\n",
            " [4.37e+02 1.00e+00]\n",
            " [4.50e+02 1.00e+00]\n",
            " [5.08e+02 1.00e+00]]\n"
          ]
        }
      ],
      "source": [
        "unique, counts = np.unique(y_train_df, return_counts=True)\n",
        "print(np.asarray((unique, counts)).T)"
      ]
    },
    {
      "cell_type": "code",
      "execution_count": 23,
      "metadata": {
        "id": "zigR5isLzz1x"
      },
      "outputs": [],
      "source": [
        "def def_model():\n",
        "  model = tf.keras.Sequential() \n",
        "  model.add(tf.keras.Input(x_train_df.shape[1]))\n",
        "  model.add(tf.keras.layers.Dense(256,activation=\"relu\"))\n",
        "  model.add(tf.keras.layers.Dense(128,activation=\"relu\"))\n",
        "  model.add(tf.keras.layers.Dense(64,activation=\"relu\"))\n",
        "  model.add(tf.keras.layers.Dense(128,activation=\"relu\"))\n",
        "  model.add(tf.keras.layers.Dense(256,activation=\"relu\"))\n",
        "  model.add(tf.keras.layers.Dense(1))\n",
        "\n",
        "  return model"
      ]
    },
    {
      "cell_type": "code",
      "execution_count": 24,
      "metadata": {
        "colab": {
          "base_uri": "https://localhost:8080/"
        },
        "id": "DN4wp0yX5LMu",
        "outputId": "8102f221-a309-49fa-82df-fe38ac6c377d"
      },
      "outputs": [
        {
          "name": "stdout",
          "output_type": "stream",
          "text": [
            "Epoch 1/30\n",
            "1002/1002 [==============================] - 12s 6ms/step - loss: 2702.5352 - mae: 38.7660 - val_loss: 1439.7070 - val_mae: 27.2018\n",
            "Epoch 2/30\n",
            "1002/1002 [==============================] - 4s 4ms/step - loss: 1135.4795 - mae: 23.3576 - val_loss: 1925.0726 - val_mae: 34.1314\n",
            "Epoch 3/30\n",
            "1002/1002 [==============================] - 3s 3ms/step - loss: 931.1932 - mae: 20.5986 - val_loss: 1093.7297 - val_mae: 23.1813\n",
            "Epoch 4/30\n",
            "1002/1002 [==============================] - 3s 3ms/step - loss: 898.5551 - mae: 20.2004 - val_loss: 1224.4048 - val_mae: 24.4391\n",
            "Epoch 5/30\n",
            "1002/1002 [==============================] - 3s 3ms/step - loss: 890.1138 - mae: 20.0988 - val_loss: 774.2538 - val_mae: 18.9857\n",
            "Epoch 6/30\n",
            "1002/1002 [==============================] - 3s 3ms/step - loss: 874.5966 - mae: 19.8165 - val_loss: 1047.7355 - val_mae: 25.3322\n",
            "Epoch 7/30\n",
            "1002/1002 [==============================] - 3s 3ms/step - loss: 848.1734 - mae: 19.4164 - val_loss: 985.4318 - val_mae: 21.7670\n",
            "Epoch 8/30\n",
            "1002/1002 [==============================] - 3s 3ms/step - loss: 844.4827 - mae: 19.4086 - val_loss: 680.3872 - val_mae: 18.0175\n",
            "Epoch 9/30\n",
            "1002/1002 [==============================] - 3s 3ms/step - loss: 811.3681 - mae: 18.9171 - val_loss: 1112.7394 - val_mae: 23.4255\n",
            "Epoch 10/30\n",
            "1002/1002 [==============================] - 3s 3ms/step - loss: 817.0938 - mae: 19.0766 - val_loss: 753.4674 - val_mae: 18.7127\n",
            "Epoch 11/30\n",
            "1002/1002 [==============================] - 5s 5ms/step - loss: 824.2513 - mae: 19.1323 - val_loss: 1195.0649 - val_mae: 25.1379\n",
            "Epoch 12/30\n",
            "1002/1002 [==============================] - 5s 5ms/step - loss: 783.4310 - mae: 18.4568 - val_loss: 1337.2819 - val_mae: 26.1069\n",
            "Epoch 13/30\n",
            "1002/1002 [==============================] - 3s 3ms/step - loss: 780.0070 - mae: 18.5196 - val_loss: 1104.4559 - val_mae: 23.0046\n",
            "Epoch 14/30\n",
            "1002/1002 [==============================] - 3s 3ms/step - loss: 768.1446 - mae: 18.3336 - val_loss: 1572.1661 - val_mae: 29.5281\n",
            "Epoch 15/30\n",
            "1002/1002 [==============================] - 3s 3ms/step - loss: 774.6374 - mae: 18.3788 - val_loss: 913.2202 - val_mae: 20.8208\n",
            "Epoch 16/30\n",
            "1002/1002 [==============================] - 3s 3ms/step - loss: 753.2537 - mae: 18.0902 - val_loss: 1903.3765 - val_mae: 33.5873\n",
            "Epoch 17/30\n",
            "1002/1002 [==============================] - 3s 3ms/step - loss: 741.3414 - mae: 17.9545 - val_loss: 801.3107 - val_mae: 19.1343\n",
            "Epoch 18/30\n",
            "1002/1002 [==============================] - 3s 3ms/step - loss: 722.7988 - mae: 17.6815 - val_loss: 789.0826 - val_mae: 19.0776\n",
            "Epoch 19/30\n",
            "1002/1002 [==============================] - 3s 3ms/step - loss: 713.1392 - mae: 17.5003 - val_loss: 1076.3782 - val_mae: 22.4379\n",
            "Epoch 20/30\n",
            "1002/1002 [==============================] - 3s 3ms/step - loss: 707.9642 - mae: 17.4121 - val_loss: 781.1237 - val_mae: 18.9050\n",
            "Epoch 21/30\n",
            "1002/1002 [==============================] - 3s 3ms/step - loss: 687.2380 - mae: 17.1261 - val_loss: 742.0084 - val_mae: 18.7512\n",
            "Epoch 22/30\n",
            "1002/1002 [==============================] - 3s 3ms/step - loss: 705.1246 - mae: 17.5148 - val_loss: 772.3704 - val_mae: 18.7792\n",
            "Epoch 23/30\n",
            "1002/1002 [==============================] - 3s 3ms/step - loss: 678.4513 - mae: 17.1401 - val_loss: 680.8623 - val_mae: 17.9578\n",
            "Epoch 24/30\n",
            "1002/1002 [==============================] - 3s 3ms/step - loss: 696.3319 - mae: 17.4998 - val_loss: 805.8129 - val_mae: 19.3095\n",
            "Epoch 25/30\n",
            "1002/1002 [==============================] - 3s 3ms/step - loss: 664.9362 - mae: 16.9937 - val_loss: 1031.5713 - val_mae: 22.0229\n",
            "Epoch 26/30\n",
            "1002/1002 [==============================] - 3s 3ms/step - loss: 666.8801 - mae: 16.9548 - val_loss: 665.5553 - val_mae: 17.4894\n",
            "Epoch 27/30\n",
            "1002/1002 [==============================] - 5s 5ms/step - loss: 648.1309 - mae: 16.6994 - val_loss: 635.6430 - val_mae: 17.6515\n",
            "Epoch 28/30\n",
            "1002/1002 [==============================] - 3s 3ms/step - loss: 651.8232 - mae: 16.8465 - val_loss: 1077.8579 - val_mae: 23.0533\n",
            "Epoch 29/30\n",
            "1002/1002 [==============================] - 4s 4ms/step - loss: 638.3040 - mae: 16.5761 - val_loss: 1509.9724 - val_mae: 27.8989\n",
            "Epoch 30/30\n",
            "1002/1002 [==============================] - 4s 4ms/step - loss: 637.7406 - mae: 16.6935 - val_loss: 724.3848 - val_mae: 18.3234\n"
          ]
        }
      ],
      "source": [
        "model = def_model()\n",
        "model.compile(loss=tf.keras.losses.mse,optimizer=tf.keras.optimizers.Adam(0.001),metrics=[\"mae\"])\n",
        "history = model.fit(x_train_df,y_train_df,batch_size=32,epochs=30,verbose=1,validation_split=0.2,shuffle = True)"
      ]
    },
    {
      "cell_type": "markdown",
      "metadata": {
        "id": "MdzOC5ivejdB"
      },
      "source": [
        "plot\n",
        "\n",
        "\n"
      ]
    },
    {
      "cell_type": "code",
      "execution_count": 25,
      "metadata": {
        "colab": {
          "base_uri": "https://localhost:8080/",
          "height": 513
        },
        "id": "u3Ln9yHwDLz_",
        "outputId": "96cdbbb4-e343-41c9-d497-ebc90f74b64d"
      },
      "outputs": [
        {
          "data": {
            "image/png": "[encoded data removed]",
            "text/plain": [
              "<Figure size 640x480 with 1 Axes>"
            ]
          },
          "metadata": {},
          "output_type": "display_data"
        },
        {
          "data": {
            "image/png": "[encoded data removed]",
            "text/plain": [
              "<Figure size 640x480 with 1 Axes>"
            ]
          },
          "metadata": {},
          "output_type": "display_data"
        }
      ],
      "source": [
        "epochs_axis = np.arange(1, len(history.history['loss'])+1)\n",
        "plt.figure()\n",
        "plt.plot(epochs_axis,history.history['loss'], label='loss')\n",
        "plt.plot(epochs_axis,history.history['val_loss'], label='val loss')\n",
        "plt.legend()\n",
        "plt.show()\n",
        "plt.figure()\n",
        "plt.plot(epochs_axis,history.history['mae'], label='mae')\n",
        "plt.plot(epochs_axis,history.history['val_mae'], label='val mae')\n",
        "plt.legend()\n",
        "plt.show()\n"
      ]
    },
    {
      "cell_type": "markdown",
      "metadata": {
        "id": "MLVhBfKQelrG"
      },
      "source": [
        "50 epochs"
      ]
    },
    {
      "cell_type": "code",
      "execution_count": 26,
      "metadata": {
        "colab": {
          "base_uri": "https://localhost:8080/"
        },
        "id": "gIqU-FSEJWdo",
        "outputId": "97b3760a-01ad-41b5-8230-a346af4d82e7"
      },
      "outputs": [
        {
          "name": "stdout",
          "output_type": "stream",
          "text": [
            "Epoch 1/50\n",
            "501/501 [==============================] - 3s 3ms/step - loss: 3149.0242 - mae: 42.7314 - val_loss: 2827.0264 - val_mae: 36.6707\n",
            "Epoch 2/50\n",
            "501/501 [==============================] - 2s 3ms/step - loss: 1420.9447 - mae: 26.7234 - val_loss: 1351.5796 - val_mae: 26.1132\n",
            "Epoch 3/50\n",
            "501/501 [==============================] - 1s 3ms/step - loss: 1021.9559 - mae: 21.8809 - val_loss: 718.7136 - val_mae: 18.1137\n",
            "Epoch 4/50\n",
            "501/501 [==============================] - 2s 3ms/step - loss: 894.9870 - mae: 20.0757 - val_loss: 970.2229 - val_mae: 21.3865\n",
            "Epoch 5/50\n",
            "501/501 [==============================] - 2s 3ms/step - loss: 912.8989 - mae: 20.3574 - val_loss: 1142.1304 - val_mae: 23.4619\n",
            "Epoch 6/50\n",
            "501/501 [==============================] - 2s 3ms/step - loss: 836.7480 - mae: 19.2513 - val_loss: 1089.2914 - val_mae: 23.4416\n",
            "Epoch 7/50\n",
            "501/501 [==============================] - 1s 3ms/step - loss: 815.0362 - mae: 18.9084 - val_loss: 794.5504 - val_mae: 19.2663\n",
            "Epoch 8/50\n",
            "501/501 [==============================] - 2s 3ms/step - loss: 816.7892 - mae: 19.0352 - val_loss: 712.7191 - val_mae: 17.8720\n",
            "Epoch 9/50\n",
            "501/501 [==============================] - 2s 5ms/step - loss: 795.5867 - mae: 18.6794 - val_loss: 1762.2965 - val_mae: 31.3272\n",
            "Epoch 10/50\n",
            "501/501 [==============================] - 2s 3ms/step - loss: 792.8725 - mae: 18.5898 - val_loss: 921.2532 - val_mae: 20.9702\n",
            "Epoch 11/50\n",
            "501/501 [==============================] - 2s 3ms/step - loss: 778.8401 - mae: 18.3603 - val_loss: 1247.7335 - val_mae: 26.2776\n",
            "Epoch 12/50\n",
            "501/501 [==============================] - 2s 4ms/step - loss: 798.3275 - mae: 18.7211 - val_loss: 736.0271 - val_mae: 18.9242\n",
            "Epoch 13/50\n",
            "501/501 [==============================] - 3s 5ms/step - loss: 776.6992 - mae: 18.3840 - val_loss: 1777.1428 - val_mae: 33.2111\n",
            "Epoch 14/50\n",
            "501/501 [==============================] - 2s 4ms/step - loss: 771.4148 - mae: 18.3086 - val_loss: 644.7538 - val_mae: 17.3175\n",
            "Epoch 15/50\n",
            "501/501 [==============================] - 2s 3ms/step - loss: 771.5092 - mae: 18.2800 - val_loss: 650.1608 - val_mae: 17.4126\n",
            "Epoch 16/50\n",
            "501/501 [==============================] - 2s 3ms/step - loss: 745.2621 - mae: 17.8837 - val_loss: 1112.8906 - val_mae: 24.1614\n",
            "Epoch 17/50\n",
            "501/501 [==============================] - 2s 3ms/step - loss: 747.3021 - mae: 18.0061 - val_loss: 1816.3579 - val_mae: 33.1367\n",
            "Epoch 18/50\n",
            "501/501 [==============================] - 2s 3ms/step - loss: 751.5588 - mae: 18.1106 - val_loss: 1334.7612 - val_mae: 27.0644\n",
            "Epoch 19/50\n",
            "501/501 [==============================] - 2s 4ms/step - loss: 716.2675 - mae: 17.4894 - val_loss: 710.2173 - val_mae: 18.1053\n",
            "Epoch 20/50\n",
            "501/501 [==============================] - 2s 3ms/step - loss: 722.5190 - mae: 17.6103 - val_loss: 775.2475 - val_mae: 19.1646\n",
            "Epoch 21/50\n",
            "501/501 [==============================] - 2s 3ms/step - loss: 696.1752 - mae: 17.1804 - val_loss: 727.6247 - val_mae: 18.4161\n",
            "Epoch 22/50\n",
            "501/501 [==============================] - 2s 3ms/step - loss: 693.5281 - mae: 17.2137 - val_loss: 894.2831 - val_mae: 20.6436\n",
            "Epoch 23/50\n",
            "501/501 [==============================] - 2s 3ms/step - loss: 700.4324 - mae: 17.5690 - val_loss: 687.1793 - val_mae: 17.6453\n",
            "Epoch 24/50\n",
            "501/501 [==============================] - 2s 3ms/step - loss: 663.0374 - mae: 16.9812 - val_loss: 980.8032 - val_mae: 22.7480\n",
            "Epoch 25/50\n",
            "501/501 [==============================] - 2s 3ms/step - loss: 672.7656 - mae: 17.1875 - val_loss: 718.4678 - val_mae: 18.1564\n",
            "Epoch 26/50\n",
            "501/501 [==============================] - 2s 3ms/step - loss: 650.3867 - mae: 16.9410 - val_loss: 1063.7368 - val_mae: 23.3323\n",
            "Epoch 27/50\n",
            "501/501 [==============================] - 2s 3ms/step - loss: 632.8950 - mae: 16.5684 - val_loss: 1128.9154 - val_mae: 24.2454\n",
            "Epoch 28/50\n",
            "501/501 [==============================] - 2s 4ms/step - loss: 632.5072 - mae: 16.6591 - val_loss: 778.9084 - val_mae: 19.1295\n",
            "Epoch 29/50\n",
            "501/501 [==============================] - 2s 3ms/step - loss: 611.2346 - mae: 16.3034 - val_loss: 816.7789 - val_mae: 19.5281\n",
            "Epoch 30/50\n",
            "501/501 [==============================] - 2s 4ms/step - loss: 598.7312 - mae: 16.1750 - val_loss: 720.6907 - val_mae: 18.2107\n",
            "Epoch 31/50\n",
            "501/501 [==============================] - 2s 3ms/step - loss: 589.2372 - mae: 16.0520 - val_loss: 652.4034 - val_mae: 17.1876\n",
            "Epoch 32/50\n",
            "501/501 [==============================] - 2s 3ms/step - loss: 606.4552 - mae: 16.2962 - val_loss: 743.3882 - val_mae: 18.9579\n",
            "Epoch 33/50\n",
            "501/501 [==============================] - 2s 3ms/step - loss: 586.3119 - mae: 16.0581 - val_loss: 775.9650 - val_mae: 18.8367\n",
            "Epoch 34/50\n",
            "501/501 [==============================] - 2s 3ms/step - loss: 581.3233 - mae: 15.9116 - val_loss: 813.1313 - val_mae: 19.7009\n",
            "Epoch 35/50\n",
            "501/501 [==============================] - 2s 4ms/step - loss: 572.7386 - mae: 15.7477 - val_loss: 725.3862 - val_mae: 18.3545\n",
            "Epoch 36/50\n",
            "501/501 [==============================] - 2s 3ms/step - loss: 580.5402 - mae: 15.8469 - val_loss: 1726.9329 - val_mae: 31.0071\n",
            "Epoch 37/50\n",
            "501/501 [==============================] - 2s 3ms/step - loss: 574.9485 - mae: 15.8412 - val_loss: 868.7654 - val_mae: 20.7202\n",
            "Epoch 38/50\n",
            "501/501 [==============================] - 2s 3ms/step - loss: 574.1083 - mae: 15.8162 - val_loss: 936.5737 - val_mae: 20.8890\n",
            "Epoch 39/50\n",
            "501/501 [==============================] - 2s 3ms/step - loss: 561.8370 - mae: 15.5957 - val_loss: 697.1003 - val_mae: 17.7746\n",
            "Epoch 40/50\n",
            "501/501 [==============================] - 1s 3ms/step - loss: 573.3553 - mae: 15.7266 - val_loss: 858.0873 - val_mae: 20.1974\n",
            "Epoch 41/50\n",
            "501/501 [==============================] - 2s 4ms/step - loss: 564.2738 - mae: 15.6038 - val_loss: 932.3297 - val_mae: 21.0836\n",
            "Epoch 42/50\n",
            "501/501 [==============================] - 2s 3ms/step - loss: 558.7685 - mae: 15.6225 - val_loss: 1018.3248 - val_mae: 22.0109\n",
            "Epoch 43/50\n",
            "501/501 [==============================] - 2s 3ms/step - loss: 559.3004 - mae: 15.5490 - val_loss: 951.6134 - val_mae: 21.0244\n",
            "Epoch 44/50\n",
            "501/501 [==============================] - 2s 4ms/step - loss: 558.0864 - mae: 15.5212 - val_loss: 835.9880 - val_mae: 20.1004\n",
            "Epoch 45/50\n",
            "501/501 [==============================] - 2s 4ms/step - loss: 541.3239 - mae: 15.2104 - val_loss: 957.6882 - val_mae: 21.5276\n",
            "Epoch 46/50\n",
            "501/501 [==============================] - 2s 4ms/step - loss: 548.7623 - mae: 15.3865 - val_loss: 1248.3262 - val_mae: 25.1320\n",
            "Epoch 47/50\n",
            "501/501 [==============================] - 2s 4ms/step - loss: 556.1216 - mae: 15.5370 - val_loss: 658.9626 - val_mae: 18.0222\n",
            "Epoch 48/50\n",
            "501/501 [==============================] - 2s 3ms/step - loss: 540.4866 - mae: 15.2361 - val_loss: 904.4274 - val_mae: 20.7878\n",
            "Epoch 49/50\n",
            "501/501 [==============================] - 2s 3ms/step - loss: 550.1064 - mae: 15.4069 - val_loss: 698.9022 - val_mae: 17.8690\n",
            "Epoch 50/50\n",
            "501/501 [==============================] - 2s 3ms/step - loss: 533.7091 - mae: 15.0874 - val_loss: 641.7470 - val_mae: 17.4979\n"
          ]
        }
      ],
      "source": [
        "model = def_model()\n",
        "model.compile(loss=tf.keras.losses.mse,optimizer=tf.keras.optimizers.Adam(0.001),metrics=[\"mae\"])\n",
        "history = model.fit(x_train_df,y_train_df,batch_size=64,epochs=50,verbose=1,validation_split=0.2,shuffle = True)"
      ]
    },
    {
      "cell_type": "code",
      "execution_count": 27,
      "metadata": {
        "colab": {
          "base_uri": "https://localhost:8080/",
          "height": 513
        },
        "id": "NriPBbVJehiX",
        "outputId": "c1d71dd1-ab07-4d53-f5bd-23cec1b2f0f3"
      },
      "outputs": [
        {
          "data": {
            "image/png": "[encoded data removed]",
            "text/plain": [
              "<Figure size 640x480 with 1 Axes>"
            ]
          },
          "metadata": {},
          "output_type": "display_data"
        },
        {
          "data": {
            "image/png": "[encoded data removed]",
            "text/plain": [
              "<Figure size 640x480 with 1 Axes>"
            ]
          },
          "metadata": {},
          "output_type": "display_data"
        }
      ],
      "source": [
        "epochs_axis = np.arange(1, len(history.history['loss'])+1)\n",
        "plt.figure()\n",
        "plt.plot(epochs_axis,history.history['loss'], label='loss')\n",
        "plt.plot(epochs_axis,history.history['val_loss'], label='val loss')\n",
        "plt.legend()\n",
        "plt.show()\n",
        "plt.figure()\n",
        "plt.plot(epochs_axis,history.history['mae'], label='mae')\n",
        "plt.plot(epochs_axis,history.history['val_mae'], label='val mae')\n",
        "plt.legend()\n",
        "plt.show()"
      ]
    },
    {
      "cell_type": "code",
      "execution_count": 28,
      "metadata": {
        "colab": {
          "base_uri": "https://localhost:8080/"
        },
        "id": "smhsxiD5grmU",
        "outputId": "09a365e7-ecfd-4251-a032-1c06a60b8d2e"
      },
      "outputs": [
        {
          "name": "stdout",
          "output_type": "stream",
          "text": [
            "Epoch 1/100\n",
            "1002/1002 [==============================] - 4s 3ms/step - loss: 2767.5051 - mae: 39.3449 - val_loss: 1560.6741 - val_mae: 27.7994\n",
            "Epoch 2/100\n",
            "1002/1002 [==============================] - 3s 3ms/step - loss: 1242.9078 - mae: 24.6001 - val_loss: 1271.1019 - val_mae: 25.4489\n",
            "Epoch 3/100\n",
            "1002/1002 [==============================] - 3s 3ms/step - loss: 946.3480 - mae: 20.8304 - val_loss: 1271.3278 - val_mae: 25.4869\n",
            "Epoch 4/100\n",
            "1002/1002 [==============================] - 3s 3ms/step - loss: 926.0920 - mae: 20.6443 - val_loss: 966.9774 - val_mae: 21.2819\n",
            "Epoch 5/100\n",
            "1002/1002 [==============================] - 3s 3ms/step - loss: 882.8965 - mae: 19.9713 - val_loss: 790.8292 - val_mae: 19.0995\n",
            "Epoch 6/100\n",
            "1002/1002 [==============================] - 3s 3ms/step - loss: 859.9382 - mae: 19.6237 - val_loss: 995.6107 - val_mae: 21.9430\n",
            "Epoch 7/100\n",
            "1002/1002 [==============================] - 3s 3ms/step - loss: 843.1729 - mae: 19.3174 - val_loss: 933.1401 - val_mae: 20.9789\n",
            "Epoch 8/100\n",
            "1002/1002 [==============================] - 3s 3ms/step - loss: 829.3120 - mae: 19.1868 - val_loss: 1848.6802 - val_mae: 32.7747\n",
            "Epoch 9/100\n",
            "1002/1002 [==============================] - 3s 3ms/step - loss: 805.7591 - mae: 18.8357 - val_loss: 715.0049 - val_mae: 19.2956\n",
            "Epoch 10/100\n",
            "1002/1002 [==============================] - 4s 4ms/step - loss: 805.4145 - mae: 18.7691 - val_loss: 723.3491 - val_mae: 18.3324\n",
            "Epoch 11/100\n",
            "1002/1002 [==============================] - 3s 3ms/step - loss: 781.9059 - mae: 18.4774 - val_loss: 1812.4659 - val_mae: 31.9668\n",
            "Epoch 12/100\n",
            "1002/1002 [==============================] - 3s 3ms/step - loss: 788.0533 - mae: 18.6338 - val_loss: 719.2325 - val_mae: 18.0403\n",
            "Epoch 13/100\n",
            "1002/1002 [==============================] - 3s 3ms/step - loss: 766.5992 - mae: 18.3102 - val_loss: 649.9308 - val_mae: 17.2580\n",
            "Epoch 14/100\n",
            "1002/1002 [==============================] - 3s 3ms/step - loss: 772.4576 - mae: 18.4598 - val_loss: 1374.1409 - val_mae: 26.3885\n",
            "Epoch 15/100\n",
            "1002/1002 [==============================] - 3s 3ms/step - loss: 772.4396 - mae: 18.3653 - val_loss: 676.5260 - val_mae: 17.8552\n",
            "Epoch 16/100\n",
            "1002/1002 [==============================] - 3s 3ms/step - loss: 754.9117 - mae: 18.1412 - val_loss: 1371.2745 - val_mae: 27.6165\n",
            "Epoch 17/100\n",
            "1002/1002 [==============================] - 3s 3ms/step - loss: 722.1997 - mae: 17.6313 - val_loss: 758.2523 - val_mae: 18.6607\n",
            "Epoch 18/100\n",
            "1002/1002 [==============================] - 3s 3ms/step - loss: 723.5801 - mae: 17.7041 - val_loss: 974.1022 - val_mae: 21.6362\n",
            "Epoch 19/100\n",
            "1002/1002 [==============================] - 3s 3ms/step - loss: 726.9557 - mae: 17.8515 - val_loss: 780.8889 - val_mae: 18.6502\n",
            "Epoch 20/100\n",
            "1002/1002 [==============================] - 3s 3ms/step - loss: 687.3859 - mae: 17.2092 - val_loss: 950.2742 - val_mae: 21.8947\n",
            "Epoch 21/100\n",
            "1002/1002 [==============================] - 3s 3ms/step - loss: 687.6304 - mae: 17.3167 - val_loss: 750.5162 - val_mae: 18.4905\n",
            "Epoch 22/100\n",
            "1002/1002 [==============================] - 3s 3ms/step - loss: 669.6296 - mae: 17.0237 - val_loss: 1024.3313 - val_mae: 22.1374\n",
            "Epoch 23/100\n",
            "1002/1002 [==============================] - 3s 3ms/step - loss: 662.1332 - mae: 16.9085 - val_loss: 790.8590 - val_mae: 19.1508\n",
            "Epoch 24/100\n",
            "1002/1002 [==============================] - 3s 3ms/step - loss: 660.1046 - mae: 16.9084 - val_loss: 1082.9598 - val_mae: 23.4173\n",
            "Epoch 25/100\n",
            "1002/1002 [==============================] - 3s 3ms/step - loss: 637.7914 - mae: 16.5959 - val_loss: 700.4059 - val_mae: 18.0673\n",
            "Epoch 26/100\n",
            "1002/1002 [==============================] - 3s 3ms/step - loss: 633.9882 - mae: 16.5247 - val_loss: 653.0682 - val_mae: 18.2749\n",
            "Epoch 27/100\n",
            "1002/1002 [==============================] - 3s 3ms/step - loss: 628.2817 - mae: 16.4992 - val_loss: 613.4838 - val_mae: 16.9007\n",
            "Epoch 28/100\n",
            "1002/1002 [==============================] - 3s 3ms/step - loss: 611.9144 - mae: 16.3010 - val_loss: 1349.8708 - val_mae: 25.9381\n",
            "Epoch 29/100\n",
            "1002/1002 [==============================] - 3s 3ms/step - loss: 631.5424 - mae: 16.6368 - val_loss: 837.8803 - val_mae: 20.1291\n",
            "Epoch 30/100\n",
            "1002/1002 [==============================] - 3s 3ms/step - loss: 612.2865 - mae: 16.2669 - val_loss: 1104.1886 - val_mae: 23.1926\n",
            "Epoch 31/100\n",
            "1002/1002 [==============================] - 3s 3ms/step - loss: 597.4003 - mae: 16.0462 - val_loss: 915.3148 - val_mae: 20.4487\n",
            "Epoch 32/100\n",
            "1002/1002 [==============================] - 3s 3ms/step - loss: 607.5137 - mae: 16.2080 - val_loss: 1068.6835 - val_mae: 22.6631\n",
            "Epoch 33/100\n",
            "1002/1002 [==============================] - 3s 3ms/step - loss: 603.6329 - mae: 16.1779 - val_loss: 909.4828 - val_mae: 20.9446\n",
            "Epoch 34/100\n",
            "1002/1002 [==============================] - 3s 3ms/step - loss: 594.6897 - mae: 15.9839 - val_loss: 773.7642 - val_mae: 18.7634\n",
            "Epoch 35/100\n",
            "1002/1002 [==============================] - 3s 3ms/step - loss: 583.9650 - mae: 15.9197 - val_loss: 1707.9873 - val_mae: 30.0086\n",
            "Epoch 36/100\n",
            "1002/1002 [==============================] - 3s 3ms/step - loss: 580.9190 - mae: 15.8924 - val_loss: 1067.7014 - val_mae: 23.4611\n",
            "Epoch 37/100\n",
            "1002/1002 [==============================] - 3s 3ms/step - loss: 571.8934 - mae: 15.6894 - val_loss: 860.2311 - val_mae: 20.0111\n",
            "Epoch 38/100\n",
            "1002/1002 [==============================] - 3s 3ms/step - loss: 559.0737 - mae: 15.3716 - val_loss: 1068.1151 - val_mae: 23.0225\n",
            "Epoch 39/100\n",
            "1002/1002 [==============================] - 3s 3ms/step - loss: 569.6526 - mae: 15.5213 - val_loss: 1314.9503 - val_mae: 25.6792\n",
            "Epoch 40/100\n",
            "1002/1002 [==============================] - 3s 3ms/step - loss: 553.5963 - mae: 15.3901 - val_loss: 1226.3179 - val_mae: 24.4787\n",
            "Epoch 41/100\n",
            "1002/1002 [==============================] - 3s 3ms/step - loss: 565.5611 - mae: 15.6517 - val_loss: 768.0092 - val_mae: 18.5298\n",
            "Epoch 42/100\n",
            "1002/1002 [==============================] - 3s 3ms/step - loss: 565.2047 - mae: 15.5899 - val_loss: 747.5432 - val_mae: 18.2154\n",
            "Epoch 43/100\n",
            "1002/1002 [==============================] - 3s 3ms/step - loss: 549.1602 - mae: 15.3042 - val_loss: 903.2825 - val_mae: 20.3385\n",
            "Epoch 44/100\n",
            "1002/1002 [==============================] - 4s 4ms/step - loss: 543.8654 - mae: 15.1883 - val_loss: 1229.4453 - val_mae: 24.3170\n",
            "Epoch 45/100\n",
            "1002/1002 [==============================] - 3s 3ms/step - loss: 551.6352 - mae: 15.4497 - val_loss: 1036.0594 - val_mae: 22.7877\n",
            "Epoch 46/100\n",
            "1002/1002 [==============================] - 4s 4ms/step - loss: 543.8740 - mae: 15.3443 - val_loss: 1425.1344 - val_mae: 27.9586\n",
            "Epoch 47/100\n",
            "1002/1002 [==============================] - 3s 3ms/step - loss: 549.5690 - mae: 15.2980 - val_loss: 789.0517 - val_mae: 19.0013\n",
            "Epoch 48/100\n",
            "1002/1002 [==============================] - 3s 3ms/step - loss: 543.7781 - mae: 15.2464 - val_loss: 737.4409 - val_mae: 18.2349\n",
            "Epoch 49/100\n",
            "1002/1002 [==============================] - 3s 3ms/step - loss: 528.1161 - mae: 14.9845 - val_loss: 697.3070 - val_mae: 17.8757\n",
            "Epoch 50/100\n",
            "1002/1002 [==============================] - 3s 3ms/step - loss: 529.3937 - mae: 15.0361 - val_loss: 905.4841 - val_mae: 20.8287\n",
            "Epoch 51/100\n",
            "1002/1002 [==============================] - 4s 4ms/step - loss: 526.4463 - mae: 14.9346 - val_loss: 984.9544 - val_mae: 20.8585\n",
            "Epoch 52/100\n",
            "1002/1002 [==============================] - 5s 5ms/step - loss: 534.8804 - mae: 15.1286 - val_loss: 1083.8165 - val_mae: 23.0257\n",
            "Epoch 53/100\n",
            "1002/1002 [==============================] - 3s 3ms/step - loss: 542.0835 - mae: 15.1685 - val_loss: 1139.5730 - val_mae: 24.0253\n",
            "Epoch 54/100\n",
            "1002/1002 [==============================] - 3s 3ms/step - loss: 522.5673 - mae: 14.9276 - val_loss: 703.9319 - val_mae: 17.6288\n",
            "Epoch 55/100\n",
            "1002/1002 [==============================] - 3s 3ms/step - loss: 521.6614 - mae: 14.8102 - val_loss: 936.5737 - val_mae: 21.5609\n",
            "Epoch 56/100\n",
            "1002/1002 [==============================] - 3s 3ms/step - loss: 522.2244 - mae: 14.8432 - val_loss: 753.8585 - val_mae: 18.5729\n",
            "Epoch 57/100\n",
            "1002/1002 [==============================] - 3s 3ms/step - loss: 527.3484 - mae: 15.0133 - val_loss: 624.8817 - val_mae: 17.2726\n",
            "Epoch 58/100\n",
            "1002/1002 [==============================] - 3s 3ms/step - loss: 505.6465 - mae: 14.6199 - val_loss: 1009.2520 - val_mae: 21.4514\n",
            "Epoch 59/100\n",
            "1002/1002 [==============================] - 3s 3ms/step - loss: 523.2531 - mae: 14.8405 - val_loss: 839.4507 - val_mae: 19.3280\n",
            "Epoch 60/100\n",
            "1002/1002 [==============================] - 3s 3ms/step - loss: 515.6857 - mae: 14.8090 - val_loss: 859.3412 - val_mae: 20.0571\n",
            "Epoch 61/100\n",
            "1002/1002 [==============================] - 3s 3ms/step - loss: 506.9854 - mae: 14.5940 - val_loss: 1345.2461 - val_mae: 26.1203\n",
            "Epoch 62/100\n",
            "1002/1002 [==============================] - 3s 3ms/step - loss: 512.0247 - mae: 14.6757 - val_loss: 883.3491 - val_mae: 20.6834\n",
            "Epoch 63/100\n",
            "1002/1002 [==============================] - 3s 3ms/step - loss: 514.6880 - mae: 14.7948 - val_loss: 915.0352 - val_mae: 20.8040\n",
            "Epoch 64/100\n",
            "1002/1002 [==============================] - 3s 3ms/step - loss: 513.2216 - mae: 14.7765 - val_loss: 694.9137 - val_mae: 17.6647\n",
            "Epoch 65/100\n",
            "1002/1002 [==============================] - 3s 3ms/step - loss: 507.0839 - mae: 14.5947 - val_loss: 1085.5204 - val_mae: 22.5384\n",
            "Epoch 66/100\n",
            "1002/1002 [==============================] - 3s 3ms/step - loss: 507.8693 - mae: 14.6456 - val_loss: 679.5429 - val_mae: 17.4580\n",
            "Epoch 67/100\n",
            "1002/1002 [==============================] - 3s 3ms/step - loss: 505.8453 - mae: 14.5377 - val_loss: 1191.7318 - val_mae: 24.6022\n",
            "Epoch 68/100\n",
            "1002/1002 [==============================] - 3s 3ms/step - loss: 508.5830 - mae: 14.6331 - val_loss: 910.5912 - val_mae: 20.3157\n",
            "Epoch 69/100\n",
            "1002/1002 [==============================] - 3s 3ms/step - loss: 496.9735 - mae: 14.4920 - val_loss: 944.7995 - val_mae: 21.3636\n",
            "Epoch 70/100\n",
            "1002/1002 [==============================] - 3s 3ms/step - loss: 510.8582 - mae: 14.7092 - val_loss: 1195.3168 - val_mae: 24.3179\n",
            "Epoch 71/100\n",
            "1002/1002 [==============================] - 5s 5ms/step - loss: 499.0475 - mae: 14.4677 - val_loss: 777.2925 - val_mae: 18.7178\n",
            "Epoch 72/100\n",
            "1002/1002 [==============================] - 4s 4ms/step - loss: 493.3846 - mae: 14.4506 - val_loss: 817.2388 - val_mae: 19.3975\n",
            "Epoch 73/100\n",
            "1002/1002 [==============================] - 4s 4ms/step - loss: 501.2639 - mae: 14.5163 - val_loss: 1019.5073 - val_mae: 22.9022\n",
            "Epoch 74/100\n",
            "1002/1002 [==============================] - 4s 4ms/step - loss: 503.8152 - mae: 14.5649 - val_loss: 801.5800 - val_mae: 19.2863\n",
            "Epoch 75/100\n",
            "1002/1002 [==============================] - 7s 7ms/step - loss: 485.9159 - mae: 14.2613 - val_loss: 1357.1327 - val_mae: 27.0297\n",
            "Epoch 76/100\n",
            "1002/1002 [==============================] - 6s 6ms/step - loss: 493.1414 - mae: 14.3984 - val_loss: 723.6385 - val_mae: 18.0127\n",
            "Epoch 77/100\n",
            "1002/1002 [==============================] - 5s 5ms/step - loss: 494.7729 - mae: 14.4200 - val_loss: 1425.7198 - val_mae: 27.4605\n",
            "Epoch 78/100\n",
            "1002/1002 [==============================] - 4s 4ms/step - loss: 504.4339 - mae: 14.5872 - val_loss: 634.6937 - val_mae: 17.0944\n",
            "Epoch 79/100\n",
            "1002/1002 [==============================] - 4s 4ms/step - loss: 486.4353 - mae: 14.3739 - val_loss: 1270.9574 - val_mae: 24.9454\n",
            "Epoch 80/100\n",
            "1002/1002 [==============================] - 5s 5ms/step - loss: 483.7694 - mae: 14.1947 - val_loss: 603.4280 - val_mae: 17.0324\n",
            "Epoch 81/100\n",
            "1002/1002 [==============================] - 4s 4ms/step - loss: 497.1770 - mae: 14.4920 - val_loss: 692.9647 - val_mae: 17.6366\n",
            "Epoch 82/100\n",
            "1002/1002 [==============================] - 5s 5ms/step - loss: 473.0242 - mae: 14.1109 - val_loss: 979.5507 - val_mae: 21.4473\n",
            "Epoch 83/100\n",
            "1002/1002 [==============================] - 3s 3ms/step - loss: 477.4813 - mae: 14.1379 - val_loss: 785.8273 - val_mae: 19.1085\n",
            "Epoch 84/100\n",
            "1002/1002 [==============================] - 4s 4ms/step - loss: 490.0872 - mae: 14.3902 - val_loss: 964.1795 - val_mae: 21.4996\n",
            "Epoch 85/100\n",
            "1002/1002 [==============================] - 6s 6ms/step - loss: 484.4509 - mae: 14.2692 - val_loss: 688.9239 - val_mae: 18.1602\n",
            "Epoch 86/100\n",
            "1002/1002 [==============================] - 5s 5ms/step - loss: 478.4569 - mae: 14.2191 - val_loss: 954.1973 - val_mae: 21.5861\n",
            "Epoch 87/100\n",
            "1002/1002 [==============================] - 4s 4ms/step - loss: 486.1474 - mae: 14.3795 - val_loss: 885.4080 - val_mae: 20.5005\n",
            "Epoch 88/100\n",
            "1002/1002 [==============================] - 3s 3ms/step - loss: 469.4349 - mae: 14.0072 - val_loss: 762.4229 - val_mae: 18.9190\n",
            "Epoch 89/100\n",
            "1002/1002 [==============================] - 3s 3ms/step - loss: 476.8927 - mae: 14.1689 - val_loss: 857.4709 - val_mae: 20.0600\n",
            "Epoch 90/100\n",
            "1002/1002 [==============================] - 3s 3ms/step - loss: 474.0158 - mae: 14.1192 - val_loss: 1056.9185 - val_mae: 23.2293\n",
            "Epoch 91/100\n",
            "1002/1002 [==============================] - 3s 3ms/step - loss: 468.8824 - mae: 14.0204 - val_loss: 1145.1218 - val_mae: 23.8413\n",
            "Epoch 92/100\n",
            "1002/1002 [==============================] - 3s 3ms/step - loss: 466.6852 - mae: 14.0371 - val_loss: 876.2887 - val_mae: 20.2574\n",
            "Epoch 93/100\n",
            "1002/1002 [==============================] - 3s 3ms/step - loss: 489.4492 - mae: 14.3148 - val_loss: 1001.4157 - val_mae: 22.1987\n",
            "Epoch 94/100\n",
            "1002/1002 [==============================] - 3s 3ms/step - loss: 486.8546 - mae: 14.3657 - val_loss: 844.9932 - val_mae: 20.2906\n",
            "Epoch 95/100\n",
            "1002/1002 [==============================] - 3s 3ms/step - loss: 467.7942 - mae: 14.0294 - val_loss: 895.0487 - val_mae: 20.2788\n",
            "Epoch 96/100\n",
            "1002/1002 [==============================] - 3s 3ms/step - loss: 471.7713 - mae: 14.1216 - val_loss: 707.3916 - val_mae: 17.6617\n",
            "Epoch 97/100\n",
            "1002/1002 [==============================] - 3s 3ms/step - loss: 470.8159 - mae: 14.0165 - val_loss: 885.5309 - val_mae: 20.3574\n",
            "Epoch 98/100\n",
            "1002/1002 [==============================] - 3s 3ms/step - loss: 522.4734 - mae: 14.7663 - val_loss: 657.2505 - val_mae: 17.5428\n",
            "Epoch 99/100\n",
            "1002/1002 [==============================] - 3s 3ms/step - loss: 476.4204 - mae: 14.1799 - val_loss: 1189.8468 - val_mae: 24.8817\n",
            "Epoch 100/100\n",
            "1002/1002 [==============================] - 3s 3ms/step - loss: 465.0137 - mae: 14.0304 - val_loss: 887.8903 - val_mae: 20.9083\n"
          ]
        }
      ],
      "source": [
        "model = def_model()\n",
        "model.compile(loss=tf.keras.losses.mse,optimizer=tf.keras.optimizers.Adam(0.001),metrics=[\"mae\"])\n",
        "history = model.fit(x_train_df,y_train_df,batch_size=32,epochs=100,verbose=1,validation_split=0.2,shuffle = True)"
      ]
    },
    {
      "cell_type": "code",
      "execution_count": 29,
      "metadata": {
        "colab": {
          "base_uri": "https://localhost:8080/",
          "height": 515
        },
        "id": "G-HILM19JrH2",
        "outputId": "927bf867-e6aa-4bda-d1c1-2793cea120ce"
      },
      "outputs": [
        {
          "data": {
            "image/png": "[encoded data removed]",
            "text/plain": [
              "<Figure size 640x480 with 1 Axes>"
            ]
          },
          "metadata": {},
          "output_type": "display_data"
        },
        {
          "data": {
            "image/png": "[encoded data removed]",
            "text/plain": [
              "<Figure size 640x480 with 1 Axes>"
            ]
          },
          "metadata": {},
          "output_type": "display_data"
        }
      ],
      "source": [
        "epochs_axis = np.arange(1, len(history.history['loss'])+1)\n",
        "plt.figure()\n",
        "plt.plot(epochs_axis,history.history['loss'],label='loss')\n",
        "plt.plot(epochs_axis,history.history['val_loss'],label ='val_loss')\n",
        "plt.legend()\n",
        "plt.show()\n",
        "plt.figure()\n",
        "plt.plot(epochs_axis,history.history['mae'],label='mae')\n",
        "plt.plot(epochs_axis,history.history['val_mae'],label='val_mae')\n",
        "plt.legend()\n",
        "plt.show()"
      ]
    },
    {
      "cell_type": "code",
      "execution_count": 30,
      "metadata": {
        "colab": {
          "base_uri": "https://localhost:8080/"
        },
        "id": "XMBzimYtl1Ac",
        "outputId": "d91d9ed4-cb80-442f-b3f4-db1b6bc4941d"
      },
      "outputs": [
        {
          "name": "stdout",
          "output_type": "stream",
          "text": [
            "2480/2480 [==============================] - 4s 1ms/step\n",
            "2480/2480 [==============================] - 6s 2ms/step - loss: 3495.2710 - mae: 44.3534\n"
          ]
        }
      ],
      "source": [
        "y_test_df_predicted = model.predict(x_test_df)\n",
        "test_mse_score, test_mae_score = model.evaluate(x_test_df, y_test_df)"
      ]
    },
    {
      "cell_type": "code",
      "execution_count": 31,
      "metadata": {},
      "outputs": [
        {
          "name": "stdout",
          "output_type": "stream",
          "text": [
            "0          0.00\n",
            "1         76.50\n",
            "2         68.00\n",
            "3         76.50\n",
            "4         76.50\n",
            "          ...  \n",
            "79325     96.14\n",
            "79326    225.43\n",
            "79327    157.71\n",
            "79328    104.40\n",
            "79329    151.20\n",
            "Name: ADR, Length: 79330, dtype: float64\n",
            "<class 'pandas.core.series.Series'>\n"
          ]
        },
        {
          "data": {
            "text/plain": [
              "(79330,)"
            ]
          },
          "execution_count": 31,
          "metadata": {},
          "output_type": "execute_result"
        }
      ],
      "source": [
        "print(y_test_df)\n",
        "print(type(y_test_df))\n",
        "y_test_df.shape"
      ]
    },
    {
      "cell_type": "code",
      "execution_count": 32,
      "metadata": {},
      "outputs": [
        {
          "name": "stdout",
          "output_type": "stream",
          "text": [
            "0          0.000000\n",
            "1         76.500000\n",
            "2         68.000000\n",
            "3         76.500000\n",
            "4         76.500000\n",
            "            ...    \n",
            "79325     96.139999\n",
            "79326    225.429993\n",
            "79327    157.710007\n",
            "79328    104.400002\n",
            "79329    151.199997\n",
            "Name: ADR, Length: 79330, dtype: float32\n"
          ]
        }
      ],
      "source": [
        "y_test_df = y_test_df.astype('float32')\n",
        "print(y_test_df)"
      ]
    },
    {
      "cell_type": "code",
      "execution_count": 33,
      "metadata": {},
      "outputs": [
        {
          "data": {
            "text/html": [
              "<div>\n",
              "<style scoped>\n",
              "    .dataframe tbody tr th:only-of-type {\n",
              "        vertical-align: middle;\n",
              "    }\n",
              "\n",
              "    .dataframe tbody tr th {\n",
              "        vertical-align: top;\n",
              "    }\n",
              "\n",
              "    .dataframe thead th {\n",
              "        text-align: right;\n",
              "    }\n",
              "</style>\n",
              "<table border=\"1\" class=\"dataframe\">\n",
              "  <thead>\n",
              "    <tr style=\"text-align: right;\">\n",
              "      <th></th>\n",
              "      <th>ADR</th>\n",
              "    </tr>\n",
              "  </thead>\n",
              "  <tbody>\n",
              "    <tr>\n",
              "      <th>0</th>\n",
              "      <td>0.000000</td>\n",
              "    </tr>\n",
              "    <tr>\n",
              "      <th>1</th>\n",
              "      <td>76.500000</td>\n",
              "    </tr>\n",
              "    <tr>\n",
              "      <th>2</th>\n",
              "      <td>68.000000</td>\n",
              "    </tr>\n",
              "    <tr>\n",
              "      <th>3</th>\n",
              "      <td>76.500000</td>\n",
              "    </tr>\n",
              "    <tr>\n",
              "      <th>4</th>\n",
              "      <td>76.500000</td>\n",
              "    </tr>\n",
              "    <tr>\n",
              "      <th>...</th>\n",
              "      <td>...</td>\n",
              "    </tr>\n",
              "    <tr>\n",
              "      <th>79325</th>\n",
              "      <td>96.139999</td>\n",
              "    </tr>\n",
              "    <tr>\n",
              "      <th>79326</th>\n",
              "      <td>225.429993</td>\n",
              "    </tr>\n",
              "    <tr>\n",
              "      <th>79327</th>\n",
              "      <td>157.710007</td>\n",
              "    </tr>\n",
              "    <tr>\n",
              "      <th>79328</th>\n",
              "      <td>104.400002</td>\n",
              "    </tr>\n",
              "    <tr>\n",
              "      <th>79329</th>\n",
              "      <td>151.199997</td>\n",
              "    </tr>\n",
              "  </tbody>\n",
              "</table>\n",
              "<p>79330 rows × 1 columns</p>\n",
              "</div>"
            ],
            "text/plain": [
              "              ADR\n",
              "0        0.000000\n",
              "1       76.500000\n",
              "2       68.000000\n",
              "3       76.500000\n",
              "4       76.500000\n",
              "...           ...\n",
              "79325   96.139999\n",
              "79326  225.429993\n",
              "79327  157.710007\n",
              "79328  104.400002\n",
              "79329  151.199997\n",
              "\n",
              "[79330 rows x 1 columns]"
            ]
          },
          "metadata": {},
          "output_type": "display_data"
        }
      ],
      "source": [
        "y_test_df = pd.DataFrame(y_test_df)\n",
        "display(y_test_df)"
      ]
    },
    {
      "cell_type": "code",
      "execution_count": 34,
      "metadata": {},
      "outputs": [
        {
          "name": "stdout",
          "output_type": "stream",
          "text": [
            "                0\n",
            "0      177.165482\n",
            "1      136.432556\n",
            "2      125.667870\n",
            "3      140.146973\n",
            "4      135.195755\n",
            "...           ...\n",
            "79325  154.828354\n",
            "79326  175.393433\n",
            "79327  123.658028\n",
            "79328  138.938019\n",
            "79329  148.028931\n",
            "\n",
            "[79330 rows x 1 columns]\n",
            "<class 'pandas.core.frame.DataFrame'>\n",
            "(79330, 1)\n",
            "0    float32\n",
            "dtype: object\n"
          ]
        }
      ],
      "source": [
        "y_test_df_predicted = pd.DataFrame(y_test_df_predicted)\n",
        "print(y_test_df_predicted)\n",
        "print(type(y_test_df_predicted))\n",
        "print(y_test_df_predicted.shape)\n",
        "print(y_test_df_predicted.dtypes)"
      ]
    },
    {
      "cell_type": "code",
      "execution_count": 35,
      "metadata": {},
      "outputs": [
        {
          "name": "stdout",
          "output_type": "stream",
          "text": [
            "<class 'pandas.core.frame.DataFrame'>\n",
            "<class 'pandas.core.frame.DataFrame'>\n",
            "<class 'numpy.ndarray'>\n",
            "<class 'numpy.ndarray'>\n"
          ]
        },
        {
          "data": {
            "text/plain": [
              "array([[  0.  ],\n",
              "       [ 76.5 ],\n",
              "       [ 68.  ],\n",
              "       ...,\n",
              "       [157.71],\n",
              "       [104.4 ],\n",
              "       [151.2 ]], dtype=float32)"
            ]
          },
          "metadata": {},
          "output_type": "display_data"
        },
        {
          "data": {
            "text/plain": [
              "array([[177.16548],\n",
              "       [136.43256],\n",
              "       [125.66787],\n",
              "       ...,\n",
              "       [123.65803],\n",
              "       [138.93802],\n",
              "       [148.02893]], dtype=float32)"
            ]
          },
          "metadata": {},
          "output_type": "display_data"
        }
      ],
      "source": [
        "from numpy import disp\n",
        "\n",
        "print(type(y_test_df))\n",
        "print(type(y_test_df_predicted))\n",
        "y_test_df_numpy= y_test_df.values\n",
        "y_test_df_predicted_numpy = y_test_df_predicted.values\n",
        "print(type(y_test_df_numpy))\n",
        "print(type(y_test_df_predicted_numpy))\n",
        "display(y_test_df_numpy)\n",
        "display(y_test_df_predicted_numpy)\n",
        "\n",
        "#split matrix into 3 columns each into 1d array\n",
        "\n",
        "# arr1 = np.delete(y_test_df_numpy,[1,2],axis=1) \n",
        "# arr2 = np.delete(conv_arr,[0,2],axis=1) \n",
        "# arr3 = np.delete(conv_arr,[0,1],axis=1) \n",
        "\n",
        "#converting into 1D array\n",
        "# y_test_df1 = y_test_df_numpy.ravel()\n",
        "# y_test_df_predicted1 = y_test_df_predicted_numpy.ravel()\n",
        "# display(y_test_df1)\n",
        "# display(y_test_df_predicted1)\n"
      ]
    },
    {
      "cell_type": "code",
      "execution_count": 36,
      "metadata": {
        "colab": {
          "base_uri": "https://localhost:8080/",
          "height": 235
        },
        "id": "qUAtABGsPVdh",
        "outputId": "41b37c5a-ad23-4971-f419-6a47c672df8d"
      },
      "outputs": [
        {
          "data": {
            "text/html": [
              "<div>\n",
              "<style scoped>\n",
              "    .dataframe tbody tr th:only-of-type {\n",
              "        vertical-align: middle;\n",
              "    }\n",
              "\n",
              "    .dataframe tbody tr th {\n",
              "        vertical-align: top;\n",
              "    }\n",
              "\n",
              "    .dataframe thead th {\n",
              "        text-align: right;\n",
              "    }\n",
              "</style>\n",
              "<table border=\"1\" class=\"dataframe\">\n",
              "  <thead>\n",
              "    <tr style=\"text-align: right;\">\n",
              "      <th></th>\n",
              "      <th>Real_ADR</th>\n",
              "      <th>predicted_ADR</th>\n",
              "      <th>Diff</th>\n",
              "    </tr>\n",
              "  </thead>\n",
              "  <tbody>\n",
              "    <tr>\n",
              "      <th>0</th>\n",
              "      <td>[[0.0], [76.5], [68.0], [76.5], [76.5], [76.5]...</td>\n",
              "      <td>NaN</td>\n",
              "      <td>[[177.16548], [59.932556], [57.66787], [63.646...</td>\n",
              "    </tr>\n",
              "  </tbody>\n",
              "</table>\n",
              "</div>"
            ],
            "text/plain": [
              "                                            Real_ADR predicted_ADR  \\\n",
              "0  [[0.0], [76.5], [68.0], [76.5], [76.5], [76.5]...           NaN   \n",
              "\n",
              "                                                Diff  \n",
              "0  [[177.16548], [59.932556], [57.66787], [63.646...  "
            ]
          },
          "execution_count": 36,
          "metadata": {},
          "output_type": "execute_result"
        }
      ],
      "source": [
        "compared_df = pd.DataFrame({'Real_ADR': [y_test_df_numpy],\n",
        "                           'Predicted_ADR': [y_test_df_predicted_numpy],                   \n",
        "                           'Diff':[y_test_df_predicted_numpy - y_test_df_numpy]}, columns = ['Real_ADR','predicted_ADR','Diff'])\n",
        "\n",
        "compared_df.head(10)"
      ]
    },
    {
      "cell_type": "code",
      "execution_count": null,
      "metadata": {},
      "outputs": [],
      "source": []
    }
  ],
  "metadata": {
    "colab": {
      "provenance": []
    },
    "kernelspec": {
      "display_name": "tensorflow",
      "language": "python",
      "name": "python3"
    },
    "language_info": {
      "codemirror_mode": {
        "name": "ipython",
        "version": 3
      },
      "file_extension": ".py",
      "mimetype": "text/x-python",
      "name": "python",
      "nbconvert_exporter": "python",
      "pygments_lexer": "ipython3",
      "version": "3.9.15 (main, Nov 24 2022, 14:39:17) [MSC v.1916 64 bit (AMD64)]"
    },
    "vscode": {
      "interpreter": {
        "hash": "3d99f7da9083b613b335a5c600a014f868e72c406e097c507993764a432898e4"
      }
    }
  },
  "nbformat": 4,
  "nbformat_minor": 0
}
